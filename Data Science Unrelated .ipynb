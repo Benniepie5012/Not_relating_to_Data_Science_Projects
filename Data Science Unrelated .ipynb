{
 "cells": [
  {
   "cell_type": "code",
   "execution_count": null,
   "id": "81f7c517",
   "metadata": {},
   "outputs": [],
   "source": [
    "#Downloading Youtube Videos with python\n",
    "!pip install pytube"
   ]
  },
  {
   "cell_type": "code",
   "execution_count": null,
   "id": "dac9f67c",
   "metadata": {},
   "outputs": [],
   "source": [
    "import pytube"
   ]
  },
  {
   "cell_type": "code",
   "execution_count": null,
   "id": "5fecaf93",
   "metadata": {},
   "outputs": [],
   "source": [
    "video_url = \"https://youtu.be/gKswTB7Z53Y?si=YIdF9PoSbk-cLzlN\"\n",
    "yt = pytube.YouTube(video_url)\n",
    "stream = yt.streams.get_highest_resolution()\n",
    "stream.download()"
   ]
  },
  {
   "cell_type": "code",
   "execution_count": null,
   "id": "913cc2c2",
   "metadata": {},
   "outputs": [],
   "source": []
  }
 ],
 "metadata": {
  "kernelspec": {
   "display_name": "Python 3 (ipykernel)",
   "language": "python",
   "name": "python3"
  },
  "language_info": {
   "codemirror_mode": {
    "name": "ipython",
    "version": 3
   },
   "file_extension": ".py",
   "mimetype": "text/x-python",
   "name": "python",
   "nbconvert_exporter": "python",
   "pygments_lexer": "ipython3",
   "version": "3.11.3"
  }
 },
 "nbformat": 4,
 "nbformat_minor": 5
}
