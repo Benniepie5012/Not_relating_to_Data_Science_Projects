{
 "cells": [
  {
   "cell_type": "code",
   "execution_count": 1,
   "id": "c64c431a",
   "metadata": {},
   "outputs": [
    {
     "name": "stdout",
     "output_type": "stream",
     "text": [
      "Collecting pytube\n",
      "  Downloading pytube-15.0.0-py3-none-any.whl (57 kB)\n",
      "                                              0.0/57.6 kB ? eta -:--:--\n",
      "     -------                                  10.2/57.6 kB ? eta -:--:--\n",
      "     -------                                  10.2/57.6 kB ? eta -:--:--\n",
      "     -------                                  10.2/57.6 kB ? eta -:--:--\n",
      "     -------                                  10.2/57.6 kB ? eta -:--:--\n",
      "     -------                                  10.2/57.6 kB ? eta -:--:--\n",
      "     -------                                  10.2/57.6 kB ? eta -:--:--\n",
      "     -------                                  10.2/57.6 kB ? eta -:--:--\n",
      "     --------------------                    30.7/57.6 kB 56.9 kB/s eta 0:00:01\n",
      "     --------------------                    30.7/57.6 kB 56.9 kB/s eta 0:00:01\n",
      "     ---------------------------             41.0/57.6 kB 67.7 kB/s eta 0:00:01\n",
      "     ---------------------------             41.0/57.6 kB 67.7 kB/s eta 0:00:01\n",
      "     ---------------------------             41.0/57.6 kB 67.7 kB/s eta 0:00:01\n",
      "     ----------------------------------      51.2/57.6 kB 72.8 kB/s eta 0:00:01\n",
      "     --------------------------------------- 57.6/57.6 kB 75.8 kB/s eta 0:00:00\n",
      "Installing collected packages: pytube\n",
      "Successfully installed pytube-15.0.0\n"
     ]
    }
   ],
   "source": [
    "!pip install pytube"
   ]
  },
  {
   "cell_type": "code",
   "execution_count": 2,
   "id": "3427592d",
   "metadata": {},
   "outputs": [],
   "source": [
    "import pytube"
   ]
  },
  {
   "cell_type": "code",
   "execution_count": 4,
   "id": "1f62369c",
   "metadata": {},
   "outputs": [
    {
     "data": {
      "text/plain": [
       "'C:\\\\Users\\\\USER\\\\Desktop\\\\Python\\\\Nigeria vs Sao Tome [6-0] AFCON Qualifiers Highlights 2023.mp4'"
      ]
     },
     "execution_count": 4,
     "metadata": {},
     "output_type": "execute_result"
    }
   ],
   "source": [
    "video_url = \"https://youtu.be/gKswTB7Z53Y?si=YIdF9PoSbk-cLzlN\"\n",
    "yt = pytube.YouTube(video_url)\n",
    "stream = yt.streams.get_highest_resolution()\n",
    "stream.download()"
   ]
  },
  {
   "cell_type": "code",
   "execution_count": null,
   "id": "40258634",
   "metadata": {},
   "outputs": [],
   "source": []
  }
 ],
 "metadata": {
  "kernelspec": {
   "display_name": "Python 3 (ipykernel)",
   "language": "python",
   "name": "python3"
  },
  "language_info": {
   "codemirror_mode": {
    "name": "ipython",
    "version": 3
   },
   "file_extension": ".py",
   "mimetype": "text/x-python",
   "name": "python",
   "nbconvert_exporter": "python",
   "pygments_lexer": "ipython3",
   "version": "3.11.3"
  }
 },
 "nbformat": 4,
 "nbformat_minor": 5
}
